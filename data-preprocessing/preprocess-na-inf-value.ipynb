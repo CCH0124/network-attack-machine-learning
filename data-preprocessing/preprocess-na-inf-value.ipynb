{
 "metadata": {
  "language_info": {
   "codemirror_mode": {
    "name": "ipython",
    "version": 3
   },
   "file_extension": ".py",
   "mimetype": "text/x-python",
   "name": "python",
   "nbconvert_exporter": "python",
   "pygments_lexer": "ipython3",
   "version": "3.7.7-final"
  },
  "orig_nbformat": 2,
  "kernelspec": {
   "name": "python_defaultSpec_1600183237235",
   "display_name": "Python 3.7.7 64-bit ('tf': conda)"
  }
 },
 "nbformat": 4,
 "nbformat_minor": 2,
 "cells": [
  {
   "cell_type": "code",
   "execution_count": 5,
   "metadata": {},
   "outputs": [],
   "source": [
    "import pandas as pd\n",
    "import numpy as np\n",
    "sys.path.append('../')\n",
    "import utils.data_preprocess as dp\n",
    "import utils.feature_list as fl"
   ]
  },
  {
   "cell_type": "code",
   "execution_count": 3,
   "metadata": {},
   "outputs": [],
   "source": [
    "data = pd.read_csv(\"D:\\DataSet\\CICIDS2017\\CSV\\Wednesday-workingHours.pcap_ISCX.csv\")\n",
    "data.columns = data.columns.str.strip()"
   ]
  },
  {
   "cell_type": "code",
   "execution_count": 6,
   "metadata": {},
   "outputs": [],
   "source": [
    "data_ = data[fl.get_feature()]"
   ]
  },
  {
   "cell_type": "code",
   "execution_count": 20,
   "metadata": {},
   "outputs": [],
   "source": [
    "c = data_.fillna(method='ffill')"
   ]
  },
  {
   "cell_type": "code",
   "execution_count": 9,
   "metadata": {},
   "outputs": [],
   "source": [
    "feature_frame = data_.iloc[:,0:-1]\n",
    "label_frame = data_.iloc[:,-1]"
   ]
  },
  {
   "cell_type": "code",
   "execution_count": 13,
   "metadata": {},
   "outputs": [],
   "source": [
    "import tensorflow as tf"
   ]
  },
  {
   "cell_type": "code",
   "execution_count": 16,
   "metadata": {},
   "outputs": [],
   "source": [
    "dataset = tf.data.Dataset.from_tensor_slices((feature_frame, label_frame))\n",
    "train_size = int(0.7 * feature_frame.shape[0])\n",
    "val_size = int(0.15 * feature_frame.shape[0])\n",
    "test_size = int(0.15 * feature_frame.shape[0])\n",
    "\n",
    "full_dataset = dataset.shuffle(buffer_size=feature_frame.shape[0], reshuffle_each_iteration = False )\n",
    "train_dataset = full_dataset.take(train_size)\n",
    "test_dataset = full_dataset.skip(train_size)\n",
    "val_dataset = test_dataset.skip(val_size)\n",
    "test_dataset = test_dataset.take(test_size)"
   ]
  },
  {
   "cell_type": "code",
   "execution_count": 24,
   "metadata": {
    "tags": []
   },
   "outputs": [
    {
     "output_type": "stream",
     "name": "stdout",
     "text": "(<tf.Tensor: shape=(77,), dtype=float64, numpy=\narray([ 5.01000000e+02,  1.00000000e+00,  1.00000000e+00,  5.10000000e+01,\n        1.12000000e+02,  5.10000000e+01,  5.10000000e+01,  5.10000000e+01,\n        0.00000000e+00,  1.12000000e+02,  1.12000000e+02,  1.12000000e+02,\n        0.00000000e+00,  3.25349301e+05,  3.99201597e+03,  5.01000000e+02,\n        0.00000000e+00,  5.01000000e+02,  5.01000000e+02,  0.00000000e+00,\n        0.00000000e+00,  0.00000000e+00,  0.00000000e+00,  0.00000000e+00,\n        0.00000000e+00,  0.00000000e+00,  0.00000000e+00,  0.00000000e+00,\n        0.00000000e+00,  0.00000000e+00,  0.00000000e+00,  0.00000000e+00,\n        0.00000000e+00,  2.00000000e+01,  2.00000000e+01,  1.99600798e+03,\n        1.99600798e+03,  5.10000000e+01,  1.12000000e+02,  7.13333333e+01,\n        3.52183664e+01,  1.24033333e+03,  0.00000000e+00,  0.00000000e+00,\n        0.00000000e+00,  0.00000000e+00,  0.00000000e+00,  0.00000000e+00,\n        0.00000000e+00,  0.00000000e+00,  1.00000000e+00,  1.07000000e+02,\n        5.10000000e+01,  1.12000000e+02,  2.00000000e+01,  0.00000000e+00,\n        0.00000000e+00,  0.00000000e+00,  0.00000000e+00,  0.00000000e+00,\n        0.00000000e+00,  1.00000000e+00,  5.10000000e+01,  1.00000000e+00,\n        1.12000000e+02, -1.00000000e+00, -1.00000000e+00,  0.00000000e+00,\n        2.00000000e+01,  0.00000000e+00,  0.00000000e+00,  0.00000000e+00,\n        0.00000000e+00,  0.00000000e+00,  0.00000000e+00,  0.00000000e+00,\n        0.00000000e+00])>, <tf.Tensor: shape=(), dtype=string, numpy=b'BENIGN'>)\n"
    }
   ],
   "source": [
    "for i in train_dataset:\n",
    "    print(i)\n",
    "    break"
   ]
  },
  {
   "cell_type": "code",
   "execution_count": null,
   "metadata": {},
   "outputs": [],
   "source": []
  }
 ]
}