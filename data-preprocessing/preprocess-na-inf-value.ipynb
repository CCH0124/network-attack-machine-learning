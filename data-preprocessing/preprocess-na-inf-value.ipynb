{
 "metadata": {
  "language_info": {
   "codemirror_mode": {
    "name": "ipython",
    "version": 3
   },
   "file_extension": ".py",
   "mimetype": "text/x-python",
   "name": "python",
   "nbconvert_exporter": "python",
   "pygments_lexer": "ipython3",
   "version": "3.7.7-final"
  },
  "orig_nbformat": 2,
  "kernelspec": {
   "name": "python_defaultSpec_1600173394400",
   "display_name": "Python 3.7.7 64-bit ('tf': conda)"
  }
 },
 "nbformat": 4,
 "nbformat_minor": 2,
 "cells": [
  {
   "cell_type": "code",
   "execution_count": 13,
   "metadata": {},
   "outputs": [],
   "source": [
    "import pandas as pd\n",
    "import numpy as np\n",
    "sys.path.append('../')\n",
    "import utils.data_preprocess as dp"
   ]
  },
  {
   "cell_type": "code",
   "execution_count": 20,
   "metadata": {},
   "outputs": [],
   "source": [
    "data = pd.read_csv(\"D:\\DataSet\\CICIDS2017\\CSV\\Wednesday-workingHours.pcap_ISCX.csv\")\n",
    "data.columns = data.columns.str.strip()"
   ]
  },
  {
   "cell_type": "code",
   "execution_count": 21,
   "metadata": {
    "tags": []
   },
   "outputs": [
    {
     "output_type": "stream",
     "name": "stdout",
     "text": "1008\n54723537\n0.0018419862005630227\n"
    }
   ],
   "source": [
    "dp.miss_values_rate(data)"
   ]
  },
  {
   "cell_type": "code",
   "execution_count": 22,
   "metadata": {},
   "outputs": [],
   "source": [
    "inf_nan= data.replace([np.inf, -np.inf], np.nan)\n",
    "columns_with_na_dropped = inf_nan.dropna(axis=1)"
   ]
  },
  {
   "cell_type": "code",
   "execution_count": 23,
   "metadata": {
    "tags": []
   },
   "outputs": [
    {
     "output_type": "stream",
     "name": "stdout",
     "text": "0\n53338131\n0.0\n"
    }
   ],
   "source": [
    "dp.miss_values_rate(columns_with_na_dropped)"
   ]
  },
  {
   "cell_type": "code",
   "execution_count": 24,
   "metadata": {
    "tags": []
   },
   "outputs": [],
   "source": [
    "nan_ffill= data.fillna(method='ffill')"
   ]
  },
  {
   "cell_type": "code",
   "execution_count": 26,
   "metadata": {
    "tags": []
   },
   "outputs": [
    {
     "output_type": "stream",
     "name": "stdout",
     "text": "0\n54723537\n0.0\n"
    }
   ],
   "source": [
    "# dp.miss_values_rate(nan_ffill)\n",
    "dp.miss_values_rate(nan_ffill)"
   ]
  },
  {
   "cell_type": "code",
   "execution_count": 38,
   "metadata": {
    "tags": []
   },
   "outputs": [
    {
     "output_type": "stream",
     "name": "stdout",
     "text": "0\n54643905\n0.0\n"
    }
   ],
   "source": [
    "a = data.dropna()\n",
    "dp.miss_values_rate(a)"
   ]
  },
  {
   "cell_type": "code",
   "execution_count": 28,
   "metadata": {
    "tags": []
   },
   "outputs": [
    {
     "output_type": "stream",
     "name": "stdout",
     "text": "1008\n54723537\n0.0018419862005630227\n"
    }
   ],
   "source": [
    "dataframe = data.replace(['Infinity',np.inf, -np.inf], 1000)\n",
    "dp.miss_values_rate(dataframe)"
   ]
  },
  {
   "cell_type": "code",
   "execution_count": 35,
   "metadata": {},
   "outputs": [
    {
     "output_type": "execute_result",
     "data": {
      "text/plain": "array([[False, False, False, ..., False, False, False],\n       [False, False, False, ..., False, False, False],\n       [False, False, False, ..., False, False, False],\n       ...,\n       [False, False, False, ..., False, False, False],\n       [False, False, False, ..., False, False, False],\n       [False, False, False, ..., False, False, False]])"
     },
     "metadata": {},
     "execution_count": 35
    }
   ],
   "source": [
    "np.isinf(data.iloc[:,0:-1 ].values)"
   ]
  },
  {
   "cell_type": "code",
   "execution_count": 40,
   "metadata": {},
   "outputs": [
    {
     "output_type": "execute_result",
     "data": {
      "text/plain": "578"
     },
     "metadata": {},
     "execution_count": 40
    }
   ],
   "source": []
  },
  {
   "cell_type": "code",
   "execution_count": 43,
   "metadata": {},
   "outputs": [
    {
     "output_type": "execute_result",
     "data": {
      "text/plain": "1586"
     },
     "metadata": {},
     "execution_count": 43
    }
   ],
   "source": [
    "dataframe = data.fillna(method='ffill')\n",
    "len(dataframe.iloc[:,0:-1 ].values[np.isinf(dataframe.iloc[:,0:-1 ].values)])"
   ]
  },
  {
   "cell_type": "code",
   "execution_count": null,
   "metadata": {},
   "outputs": [],
   "source": [
    "dataset = tf.data.Dataset.from_tensor_slices((self.__dataFrame, self.__LabelDataFrame))\n",
    "train_size = int(0.7 * self.__dataFrame.shape[0])\n",
    "val_size = int(0.15 * self.__dataFrame.shape[0])\n",
    "test_size = int(0.15 * self.__dataFrame.shape[0])\n",
    "\n",
    "full_dataset = dataset.shuffle(buffer_size=self.__dataFrame.shape[0], reshuffle_each_iteration = False )\n",
    "train_dataset = full_dataset.take(train_size)\n",
    "test_dataset = full_dataset.skip(train_size)\n",
    "val_dataset = test_dataset.skip(val_size)\n",
    "test_dataset = test_dataset.take(test_size)\n",
    "return train_dataset, test_dataset, val_dataset"
   ]
  }
 ]
}