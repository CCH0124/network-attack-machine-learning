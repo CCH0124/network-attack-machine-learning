{
 "cells": [
  {
   "cell_type": "code",
   "execution_count": 1,
   "metadata": {},
   "outputs": [],
   "source": [
    "import pandas as pd\n",
    "import matplotlib.pyplot as plt"
   ]
  },
  {
   "cell_type": "code",
   "execution_count": 2,
   "metadata": {},
   "outputs": [],
   "source": [
    "data = pd.read_csv(\"D:\\DataSet\\CICIDS2017\\CSV\\Wednesday-workingHours.pcap_ISCX.csv\")"
   ]
  },
  {
   "cell_type": "code",
   "execution_count": 3,
   "metadata": {},
   "outputs": [
    {
     "data": {
      "text/plain": [
       "Index(['Destination Port', 'Flow Duration', 'Total Fwd Packets',\n",
       "       'Total Backward Packets', 'Total Length of Fwd Packets',\n",
       "       'Total Length of Bwd Packets', 'Fwd Packet Length Max',\n",
       "       'Fwd Packet Length Min', 'Fwd Packet Length Mean',\n",
       "       'Fwd Packet Length Std', 'Bwd Packet Length Max',\n",
       "       'Bwd Packet Length Min', 'Bwd Packet Length Mean',\n",
       "       'Bwd Packet Length Std', 'Flow Bytes/s', 'Flow Packets/s',\n",
       "       'Flow IAT Mean', 'Flow IAT Std', 'Flow IAT Max', 'Flow IAT Min',\n",
       "       'Fwd IAT Total', 'Fwd IAT Mean', 'Fwd IAT Std', 'Fwd IAT Max',\n",
       "       'Fwd IAT Min', 'Bwd IAT Total', 'Bwd IAT Mean', 'Bwd IAT Std',\n",
       "       'Bwd IAT Max', 'Bwd IAT Min', 'Fwd PSH Flags', 'Bwd PSH Flags',\n",
       "       'Fwd URG Flags', 'Bwd URG Flags', 'Fwd Header Length',\n",
       "       'Bwd Header Length', 'Fwd Packets/s', 'Bwd Packets/s',\n",
       "       'Min Packet Length', 'Max Packet Length', 'Packet Length Mean',\n",
       "       'Packet Length Std', 'Packet Length Variance', 'FIN Flag Count',\n",
       "       'SYN Flag Count', 'RST Flag Count', 'PSH Flag Count', 'ACK Flag Count',\n",
       "       'URG Flag Count', 'CWE Flag Count', 'ECE Flag Count', 'Down/Up Ratio',\n",
       "       'Average Packet Size', 'Avg Fwd Segment Size', 'Avg Bwd Segment Size',\n",
       "       'Fwd Header Length.1', 'Fwd Avg Bytes/Bulk', 'Fwd Avg Packets/Bulk',\n",
       "       'Fwd Avg Bulk Rate', 'Bwd Avg Bytes/Bulk', 'Bwd Avg Packets/Bulk',\n",
       "       'Bwd Avg Bulk Rate', 'Subflow Fwd Packets', 'Subflow Fwd Bytes',\n",
       "       'Subflow Bwd Packets', 'Subflow Bwd Bytes', 'Init_Win_bytes_forward',\n",
       "       'Init_Win_bytes_backward', 'act_data_pkt_fwd', 'min_seg_size_forward',\n",
       "       'Active Mean', 'Active Std', 'Active Max', 'Active Min', 'Idle Mean',\n",
       "       'Idle Std', 'Idle Max', 'Idle Min', 'Label'],\n",
       "      dtype='object')"
      ]
     },
     "execution_count": 3,
     "metadata": {},
     "output_type": "execute_result"
    }
   ],
   "source": [
    "data.columns = data.columns.str.strip()\n",
    "data.columns"
   ]
  },
  {
   "cell_type": "markdown",
   "metadata": {},
   "source": [
    "## Total Fwd Packets"
   ]
  },
  {
   "cell_type": "code",
   "execution_count": 4,
   "metadata": {},
   "outputs": [],
   "source": [
    "# flow_fwd_packets = data[['Flow Duration', 'Total Fwd Packets', 'Label']]"
   ]
  },
  {
   "cell_type": "code",
   "execution_count": 5,
   "metadata": {},
   "outputs": [],
   "source": [
    "# flow_fwd_packets_benign = flow_fwd_packets[flow_fwd_packets['Label'] == 'BENIGN']\n",
    "# flow_fwd_packets_attack = flow_fwd_packets[flow_fwd_packets['Label'] != 'BENIGN']"
   ]
  },
  {
   "cell_type": "code",
   "execution_count": 6,
   "metadata": {},
   "outputs": [],
   "source": [
    "# import plotly.express as px\n",
    "# fig = px.scatter(flow_fwd_packets_benign, x=\"Flow Duration\", y=\"Total Fwd Packets\", color=\"Label\")\n",
    "# fig.show()"
   ]
  },
  {
   "cell_type": "code",
   "execution_count": 7,
   "metadata": {},
   "outputs": [],
   "source": [
    "# import plotly.express as px\n",
    "# fig = px.scatter(flow_fwd_packets_attack, x=\"Flow Duration\", y=\"Total Fwd Packets\", color=\"Label\")\n",
    "# fig.show()"
   ]
  },
  {
   "cell_type": "markdown",
   "metadata": {},
   "source": [
    "## Total Fwd Packets and Total Backward Packets"
   ]
  },
  {
   "cell_type": "code",
   "execution_count": 8,
   "metadata": {},
   "outputs": [],
   "source": [
    "# flow_packets = data[['Flow Duration', 'Total Fwd Packets', 'Total Backward Packets', 'Label']]"
   ]
  },
  {
   "cell_type": "code",
   "execution_count": 9,
   "metadata": {},
   "outputs": [],
   "source": [
    "# flow_packets_benign = flow_packets[flow_packets['Label'] == 'BENIGN']\n",
    "# flow_packets_DoS_GoldenEye = flow_packets[flow_packets['Label'] == 'DoS GoldenEye']\n",
    "# flow_packets_DoS_Hulk = flow_packets[flow_packets['Label'] == 'DoS Hulk']\n",
    "# flow_packets_DoS_Slowhttptest = flow_packets[flow_packets['Label'] == 'DoS Slowhttptest']\n",
    "# flow_packets_DoS_slowloris = flow_packets[flow_packets['Label'] == 'DoS slowloris']\n",
    "# flow_packets_Heartbleed = flow_packets[flow_packets['Label'] == 'Heartbleed']"
   ]
  },
  {
   "cell_type": "code",
   "execution_count": 14,
   "metadata": {},
   "outputs": [],
   "source": [
    "# flow_packets_concat = pd.concat([flow_packets_benign[400000:], flow_packets_Heartbleed])"
   ]
  },
  {
   "cell_type": "code",
   "execution_count": 16,
   "metadata": {},
   "outputs": [],
   "source": [
    "# import plotly.express as px\n",
    "# fig = px.scatter_3d(flow_packets_concat, x='Flow Duration', y='Total Fwd Packets', z='Total Backward Packets',\n",
    "#               color='Label')\n",
    "# fig.show()"
   ]
  },
  {
   "cell_type": "markdown",
   "metadata": {},
   "source": [
    "## Total Length of Fwd Packets"
   ]
  },
  {
   "cell_type": "code",
   "execution_count": 20,
   "metadata": {},
   "outputs": [],
   "source": [
    "# flow_length_fwd_packets = data[['Flow Duration', 'Total Length of Fwd Packets', 'Label']]\n",
    "# flow_length_fwd_packets_benign = flow_length_fwd_packets[flow_length_fwd_packets['Label'] == 'BENIGN']\n",
    "# flow_length_fwd_packets_DoS_GoldenEye = flow_length_fwd_packets[flow_length_fwd_packets['Label'] == 'DoS GoldenEye']\n",
    "# flow_length_fwd_packets_DoS_Hulk = flow_length_fwd_packets[flow_length_fwd_packets['Label'] == 'DoS Hulk']\n",
    "# flow_length_fwd_packets_DoS_Slowhttptest = flow_length_fwd_packets[flow_length_fwd_packets['Label'] == 'DoS Slowhttptest']\n",
    "# flow_length_fwd_packets_DoS_slowloris = flow_length_fwd_packets[flow_length_fwd_packets['Label'] == 'DoS slowloris']\n",
    "# flow_length_fwd_packets_Heartbleed = flow_length_fwd_packets[flow_length_fwd_packets['Label'] == 'Heartbleed']"
   ]
  },
  {
   "cell_type": "code",
   "execution_count": 21,
   "metadata": {},
   "outputs": [],
   "source": [
    "# flow_length_packets_concat = pd.concat([flow_length_fwd_packets_benign, flow_length_fwd_packets_Heartbleed])"
   ]
  },
  {
   "cell_type": "code",
   "execution_count": 19,
   "metadata": {},
   "outputs": [],
   "source": [
    "# import plotly.express as px\n",
    "# fig = px.scatter(flow_length_fwd_packets, x=\"Flow Duration\", y=\"Total Length of Fwd Packets\", color=\"Label\")\n",
    "# fig.show()"
   ]
  },
  {
   "cell_type": "markdown",
   "metadata": {},
   "source": [
    "## Total Length of Bwd Packets"
   ]
  },
  {
   "cell_type": "code",
   "execution_count": 25,
   "metadata": {},
   "outputs": [],
   "source": [
    "# flow_length_bwd_packets = data[['Flow Duration', 'Total Length of Bwd Packets', 'Label']]"
   ]
  },
  {
   "cell_type": "code",
   "execution_count": 24,
   "metadata": {},
   "outputs": [],
   "source": [
    "# import plotly.express as px\n",
    "# fig = px.scatter(flow_length_bwd_packets, x=\"Flow Duration\", y=\"Total Length of Bwd Packets\", color=\"Label\")\n",
    "# fig.show()"
   ]
  },
  {
   "cell_type": "code",
   "execution_count": null,
   "metadata": {},
   "outputs": [],
   "source": []
  }
 ],
 "metadata": {
  "kernelspec": {
   "display_name": "Python 3",
   "language": "python",
   "name": "python3"
  },
  "language_info": {
   "codemirror_mode": {
    "name": "ipython",
    "version": 3
   },
   "file_extension": ".py",
   "mimetype": "text/x-python",
   "name": "python",
   "nbconvert_exporter": "python",
   "pygments_lexer": "ipython3",
   "version": "3.7.6"
  }
 },
 "nbformat": 4,
 "nbformat_minor": 2
}
