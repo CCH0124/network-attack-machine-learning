{
 "metadata": {
  "language_info": {
   "codemirror_mode": {
    "name": "ipython",
    "version": 3
   },
   "file_extension": ".py",
   "mimetype": "text/x-python",
   "name": "python",
   "nbconvert_exporter": "python",
   "pygments_lexer": "ipython3",
   "version": "3.7.9-final"
  },
  "orig_nbformat": 2,
  "kernelspec": {
   "name": "Python 3.7.9 64-bit",
   "display_name": "Python 3.7.9 64-bit",
   "metadata": {
    "interpreter": {
     "hash": "222de058b9088c59d85d24ba942f14914188b2b750ec6a1727a4511036d2f3e6"
    }
   }
  }
 },
 "nbformat": 4,
 "nbformat_minor": 2,
 "cells": [
  {
   "cell_type": "code",
   "execution_count": 1,
   "metadata": {},
   "outputs": [],
   "source": [
    "import numpy as np\n",
    "import tensorflow as tf\n",
    "import sys\n",
    "sys.path.append('../')\n",
    "from utils.datautils import loadfiledata\n",
    "from utils.datautils import packnumericfeatures"
   ]
  },
  {
   "cell_type": "code",
   "execution_count": 2,
   "metadata": {},
   "outputs": [],
   "source": [
    "TRAIN_DATA_URL = \"https://storage.googleapis.com/tf-datasets/titanic/train.csv\"\n",
    "TEST_DATA_URL = \"https://storage.googleapis.com/tf-datasets/titanic/eval.csv\"\n",
    "\n",
    "train_file_path = tf.keras.utils.get_file(\"train.csv\", TRAIN_DATA_URL)\n",
    "test_file_path = tf.keras.utils.get_file(\"eval.csv\", TEST_DATA_URL)"
   ]
  },
  {
   "cell_type": "code",
   "execution_count": 3,
   "metadata": {},
   "outputs": [],
   "source": [
    "LABEL_COLUMN = 'survived'\n",
    "LABELS = [0, 1]\n",
    "raw_train_data = loadfiledata.get_dataset(train_file_path, label_name=LABEL_COLUMN)\n",
    "raw_test_data = loadfiledata.get_dataset(test_file_path, label_name=LABEL_COLUMN)"
   ]
  },
  {
   "cell_type": "code",
   "execution_count": 4,
   "metadata": {},
   "outputs": [
    {
     "output_type": "stream",
     "name": "stdout",
     "text": [
      "sex                 : [b'female' b'male' b'male' b'male' b'male']\nage                 : [ 3. 39. 39. 28. 28.]\nn_siblings_spouses  : [1 0 0 0 0]\nparch               : [2 0 0 0 0]\nfare                : [41.5792 24.15   13.     35.5     8.05  ]\nclass               : [b'Second' b'Third' b'Second' b'First' b'Third']\ndeck                : [b'unknown' b'unknown' b'unknown' b'A' b'unknown']\nembark_town         : [b'Cherbourg' b'Southampton' b'Southampton' b'Southampton' b'Southampton']\nalone               : [b'n' b'y' b'y' b'y' b'y']\n"
     ]
    }
   ],
   "source": [
    "loadfiledata.show_batch(raw_train_data)"
   ]
  },
  {
   "cell_type": "code",
   "execution_count": 5,
   "metadata": {},
   "outputs": [
    {
     "output_type": "stream",
     "name": "stdout",
     "text": [
      "sex                 : [b'male' b'female' b'female' b'female' b'male']\nage                 : [28. 24. 28. 35. 28.]\nn_siblings_spouses  : [0 1 1 1 1]\nparch               : [0 0 0 0 0]\nfare                : [ 8.05   26.     51.8625 83.475   7.75  ]\nclass               : [b'Third' b'Second' b'First' b'First' b'Third']\ndeck                : [b'unknown' b'unknown' b'D' b'C' b'unknown']\nembark_town         : [b'Southampton' b'Southampton' b'Southampton' b'Southampton' b'Queenstown']\nalone               : [b'y' b'n' b'n' b'n' b'n']\n"
     ]
    }
   ],
   "source": [
    "CSV_COLUMNS = ['survived', 'sex', 'age', 'n_siblings_spouses', 'parch', 'fare', 'class', 'deck', 'embark_town', 'alone']\n",
    "temp_dataset = loadfiledata.get_dataset(train_file_path, label_name=LABEL_COLUMN, column_names=CSV_COLUMNS)\n",
    "loadfiledata.show_batch(temp_dataset)"
   ]
  },
  {
   "cell_type": "code",
   "execution_count": 6,
   "metadata": {},
   "outputs": [
    {
     "output_type": "stream",
     "name": "stdout",
     "text": [
      "age                 : [28. 26. 18. 28. 28.]\nn_siblings_spouses  : [0 0 1 0 0]\nclass               : [b'First' b'Third' b'Third' b'Third' b'Third']\ndeck                : [b'unknown' b'unknown' b'unknown' b'unknown' b'unknown']\nalone               : [b'y' b'y' b'n' b'y' b'y']\n"
     ]
    }
   ],
   "source": [
    "SELECT_COLUMNS = ['survived', 'age', 'n_siblings_spouses', 'class', 'deck', 'alone']\n",
    "temp_dataset = loadfiledata.get_dataset(train_file_path, label_name=LABEL_COLUMN, select_columns=SELECT_COLUMNS)\n",
    "loadfiledata.show_batch(temp_dataset)"
   ]
  },
  {
   "source": [
    "## Data preprocessing\n",
    "\n",
    "`tf.feature_column` 可以做轉換"
   ],
   "cell_type": "markdown",
   "metadata": {}
  },
  {
   "source": [
    "##### Continuous data"
   ],
   "cell_type": "markdown",
   "metadata": {}
  },
  {
   "cell_type": "code",
   "execution_count": 7,
   "metadata": {},
   "outputs": [
    {
     "output_type": "stream",
     "name": "stdout",
     "text": [
      "age                 : [31. 23. 19. 43. 41.]\nn_siblings_spouses  : [1. 0. 0. 1. 0.]\nparch               : [0. 0. 0. 1. 1.]\nfare                : [52.      7.55   10.1708 26.25   19.5   ]\n"
     ]
    }
   ],
   "source": [
    "SELECT_COLUMNS = ['survived', 'age', 'n_siblings_spouses', 'parch', 'fare']\n",
    "DEFAULTS = [0, 0.0, 0.0, 0.0, 0.0]\n",
    "temp_dataset = loadfiledata.get_dataset(train_file_path, \n",
    "                           label_name='survived',\n",
    "                           select_columns=SELECT_COLUMNS,\n",
    "                           column_defaults = DEFAULTS)\n",
    "\n",
    "loadfiledata.show_batch(temp_dataset)"
   ]
  },
  {
   "cell_type": "code",
   "execution_count": 8,
   "metadata": {},
   "outputs": [],
   "source": [
    "# https://www.tensorflow.org/api_docs/python/tf/data/Iterator\n",
    "example_batch, labels_batch = next(iter(temp_dataset))"
   ]
  },
  {
   "cell_type": "code",
   "execution_count": 9,
   "metadata": {},
   "outputs": [
    {
     "output_type": "stream",
     "name": "stdout",
     "text": [
      "[[28.      1.      0.     19.9667]\n [22.      0.      0.      7.2292]\n [22.      0.      0.      7.75  ]\n [27.      0.      0.     76.7292]\n [25.      0.      0.      0.    ]]\n\n[0 0 1 1 1]\n"
     ]
    }
   ],
   "source": [
    "packed_dataset = temp_dataset.map(loadfiledata.pack)\n",
    "for features, labels in packed_dataset.take(1):\n",
    "  print(features.numpy())\n",
    "  print()\n",
    "  print(labels.numpy())"
   ]
  },
  {
   "cell_type": "code",
   "execution_count": 10,
   "metadata": {},
   "outputs": [
    {
     "output_type": "stream",
     "name": "stdout",
     "text": [
      "sex                 : [b'male' b'male' b'male' b'male' b'male']\nage                 : [20. 57. 16. 22. 33.]\nn_siblings_spouses  : [0 0 4 1 0]\nparch               : [0 0 1 0 0]\nfare                : [ 7.2292 12.35   39.6875  7.25    9.5   ]\nclass               : [b'Third' b'Second' b'Third' b'Third' b'Third']\ndeck                : [b'unknown' b'unknown' b'unknown' b'unknown' b'unknown']\nembark_town         : [b'Cherbourg' b'Queenstown' b'Southampton' b'Southampton' b'Southampton']\nalone               : [b'y' b'y' b'n' b'n' b'y']\n"
     ]
    }
   ],
   "source": [
    "loadfiledata.show_batch(raw_train_data)"
   ]
  },
  {
   "cell_type": "code",
   "execution_count": 11,
   "metadata": {},
   "outputs": [],
   "source": [
    "example_batch, labels_batch = next(iter(temp_dataset))"
   ]
  },
  {
   "cell_type": "code",
   "execution_count": 12,
   "metadata": {},
   "outputs": [],
   "source": [
    "NUMERIC_FEATURES = ['age','n_siblings_spouses','parch', 'fare']\n",
    "\n",
    "packed_train_data = raw_train_data.map(\n",
    "    packnumericfeatures.PackNumericFeatures(NUMERIC_FEATURES))\n",
    "\n",
    "packed_test_data = raw_test_data.map(\n",
    "    packnumericfeatures.PackNumericFeatures(NUMERIC_FEATURES))"
   ]
  },
  {
   "cell_type": "code",
   "execution_count": 13,
   "metadata": {},
   "outputs": [
    {
     "output_type": "stream",
     "name": "stdout",
     "text": [
      "sex                 : [b'male' b'male' b'female' b'male' b'male']\nclass               : [b'Third' b'Third' b'First' b'Second' b'First']\ndeck                : [b'unknown' b'unknown' b'C' b'unknown' b'unknown']\nembark_town         : [b'Southampton' b'Southampton' b'Cherbourg' b'Southampton' b'Southampton']\nalone               : [b'y' b'n' b'y' b'y' b'y']\nnumeric             : [[ 33.       0.       0.       9.5   ]\n [ 41.       2.       0.      14.1083]\n [ 36.       0.       0.     135.6333]\n [ 36.       0.       0.      13.    ]\n [ 56.       0.       0.      26.55  ]]\n"
     ]
    }
   ],
   "source": [
    "loadfiledata.show_batch(packed_train_data)"
   ]
  },
  {
   "cell_type": "code",
   "execution_count": 14,
   "metadata": {},
   "outputs": [],
   "source": [
    "example_batch, labels_batch = next(iter(packed_train_data))"
   ]
  },
  {
   "source": [
    "##### Data Normalization¶"
   ],
   "cell_type": "markdown",
   "metadata": {}
  },
  {
   "cell_type": "code",
   "execution_count": 15,
   "metadata": {},
   "outputs": [
    {
     "output_type": "execute_result",
     "data": {
      "text/plain": [
       "              age  n_siblings_spouses       parch        fare\n",
       "count  627.000000          627.000000  627.000000  627.000000\n",
       "mean    29.631308            0.545455    0.379585   34.385399\n",
       "std     12.511818            1.151090    0.792999   54.597730\n",
       "min      0.750000            0.000000    0.000000    0.000000\n",
       "25%     23.000000            0.000000    0.000000    7.895800\n",
       "50%     28.000000            0.000000    0.000000   15.045800\n",
       "75%     35.000000            1.000000    0.000000   31.387500\n",
       "max     80.000000            8.000000    5.000000  512.329200"
      ],
      "text/html": "<div>\n<style scoped>\n    .dataframe tbody tr th:only-of-type {\n        vertical-align: middle;\n    }\n\n    .dataframe tbody tr th {\n        vertical-align: top;\n    }\n\n    .dataframe thead th {\n        text-align: right;\n    }\n</style>\n<table border=\"1\" class=\"dataframe\">\n  <thead>\n    <tr style=\"text-align: right;\">\n      <th></th>\n      <th>age</th>\n      <th>n_siblings_spouses</th>\n      <th>parch</th>\n      <th>fare</th>\n    </tr>\n  </thead>\n  <tbody>\n    <tr>\n      <th>count</th>\n      <td>627.000000</td>\n      <td>627.000000</td>\n      <td>627.000000</td>\n      <td>627.000000</td>\n    </tr>\n    <tr>\n      <th>mean</th>\n      <td>29.631308</td>\n      <td>0.545455</td>\n      <td>0.379585</td>\n      <td>34.385399</td>\n    </tr>\n    <tr>\n      <th>std</th>\n      <td>12.511818</td>\n      <td>1.151090</td>\n      <td>0.792999</td>\n      <td>54.597730</td>\n    </tr>\n    <tr>\n      <th>min</th>\n      <td>0.750000</td>\n      <td>0.000000</td>\n      <td>0.000000</td>\n      <td>0.000000</td>\n    </tr>\n    <tr>\n      <th>25%</th>\n      <td>23.000000</td>\n      <td>0.000000</td>\n      <td>0.000000</td>\n      <td>7.895800</td>\n    </tr>\n    <tr>\n      <th>50%</th>\n      <td>28.000000</td>\n      <td>0.000000</td>\n      <td>0.000000</td>\n      <td>15.045800</td>\n    </tr>\n    <tr>\n      <th>75%</th>\n      <td>35.000000</td>\n      <td>1.000000</td>\n      <td>0.000000</td>\n      <td>31.387500</td>\n    </tr>\n    <tr>\n      <th>max</th>\n      <td>80.000000</td>\n      <td>8.000000</td>\n      <td>5.000000</td>\n      <td>512.329200</td>\n    </tr>\n  </tbody>\n</table>\n</div>"
     },
     "metadata": {},
     "execution_count": 15
    }
   ],
   "source": [
    "import pandas as pd\n",
    "# pandas module read_csv() function reads the CSV file into a DataFrame object.\n",
    "desc = pd.read_csv(train_file_path)[NUMERIC_FEATURES].describe()\n",
    "desc"
   ]
  },
  {
   "cell_type": "code",
   "execution_count": 16,
   "metadata": {},
   "outputs": [],
   "source": [
    "\n",
    "MEAN = np.array(desc.T['mean'])\n",
    "STD = np.array(desc.T['std'])"
   ]
  },
  {
   "cell_type": "code",
   "execution_count": 17,
   "metadata": {},
   "outputs": [
    {
     "output_type": "execute_result",
     "data": {
      "text/plain": [
       "NumericColumn(key='numeric', shape=(4,), default_value=None, dtype=tf.float32, normalizer_fn=functools.partial(<function normalize_numeric_data at 0x000002707D2AA5E8>, mean=array([29.63130781,  0.54545455,  0.37958533, 34.38539856]), std=array([12.51181763,  1.1510896 ,  0.79299921, 54.5977305 ])))"
      ]
     },
     "metadata": {},
     "execution_count": 17
    }
   ],
   "source": [
    "import functools\n",
    "normalizer = functools.partial(loadfiledata.normalize_numeric_data, mean=MEAN, std=STD)\n",
    "# https://www.tensorflow.org/api_docs/python/tf/feature_column/numeric_column\n",
    "# `tf.feature_column.numeric_column()` represents real valued or numerical features.\n",
    "numeric_column = tf.feature_column.numeric_column('numeric', normalizer_fn=normalizer, shape=[len(NUMERIC_FEATURES)])\n",
    "numeric_columns = [numeric_column]\n",
    "numeric_column"
   ]
  },
  {
   "cell_type": "code",
   "execution_count": 18,
   "metadata": {},
   "outputs": [
    {
     "output_type": "execute_result",
     "data": {
      "text/plain": [
       "<tf.Tensor: shape=(5, 4), dtype=float32, numpy=\n",
       "array([[41.    ,  0.    ,  2.    , 20.2125],\n",
       "       [ 2.    ,  3.    ,  1.    , 21.075 ],\n",
       "       [28.    ,  1.    ,  0.    , 82.1708],\n",
       "       [24.    ,  0.    ,  0.    ,  8.05  ],\n",
       "       [45.    ,  0.    ,  0.    , 26.55  ]], dtype=float32)>"
      ]
     },
     "metadata": {},
     "execution_count": 18
    }
   ],
   "source": [
    "example_batch['numeric']"
   ]
  },
  {
   "cell_type": "code",
   "execution_count": 19,
   "metadata": {},
   "outputs": [
    {
     "output_type": "execute_result",
     "data": {
      "text/plain": [
       "array([[ 0.90863633, -0.47385937,  2.0434003 , -0.2595877 ],\n",
       "       [-2.2084167 ,  2.1323671 ,  0.7823648 , -0.24379033],\n",
       "       [-0.13038135,  0.39488277, -0.4786705 ,  0.8752269 ],\n",
       "       [-0.45007908, -0.47385937, -0.4786705 , -0.4823534 ],\n",
       "       [ 1.2283341 , -0.47385937, -0.4786705 , -0.14351146]],\n",
       "      dtype=float32)"
      ]
     },
     "metadata": {},
     "execution_count": 19
    }
   ],
   "source": [
    "numeric_layer = tf.keras.layers.DenseFeatures(numeric_columns)\n",
    "numeric_layer(example_batch).numpy()"
   ]
  },
  {
   "source": [
    "### Categorical data\n",
    "使用 `tf.feature_column` API 為每個分類列創建一個帶有 `tf.feature_column.indicator_column` 的集合"
   ],
   "cell_type": "markdown",
   "metadata": {}
  },
  {
   "cell_type": "code",
   "execution_count": 20,
   "metadata": {},
   "outputs": [],
   "source": [
    "CATEGORIES = {\n",
    "    'sex': ['male', 'female'],\n",
    "    'class' : ['First', 'Second', 'Third'],\n",
    "    'deck' : ['A', 'B', 'C', 'D', 'E', 'F', 'G', 'H', 'I', 'J'],\n",
    "    'embark_town' : ['Cherbourg', 'Southhampton', 'Queenstown'],\n",
    "    'alone' : ['y', 'n']\n",
    "}"
   ]
  },
  {
   "cell_type": "code",
   "execution_count": 21,
   "metadata": {},
   "outputs": [],
   "source": [
    "categorical_columns = []\n",
    "for feature, vocab in CATEGORIES.items():\n",
    "# Use the `tf.feature_column` API to create a collection with a `tf.feature_column.indicator_column` for each categorical column.\n",
    "# https://www.tensorflow.org/api_docs/python/tf/feature_column/categorical_column_with_vocabulary_list\n",
    "# https://www.tensorflow.org/api_docs/python/tf/feature_column/indicator_column\n",
    "  cat_col = tf.feature_column.categorical_column_with_vocabulary_list(\n",
    "        key=feature, vocabulary_list=vocab)\n",
    "  categorical_columns.append(tf.feature_column.indicator_column(cat_col))"
   ]
  },
  {
   "cell_type": "code",
   "execution_count": 22,
   "metadata": {},
   "outputs": [
    {
     "output_type": "execute_result",
     "data": {
      "text/plain": [
       "[IndicatorColumn(categorical_column=VocabularyListCategoricalColumn(key='sex', vocabulary_list=('male', 'female'), dtype=tf.string, default_value=-1, num_oov_buckets=0)),\n",
       " IndicatorColumn(categorical_column=VocabularyListCategoricalColumn(key='class', vocabulary_list=('First', 'Second', 'Third'), dtype=tf.string, default_value=-1, num_oov_buckets=0)),\n",
       " IndicatorColumn(categorical_column=VocabularyListCategoricalColumn(key='deck', vocabulary_list=('A', 'B', 'C', 'D', 'E', 'F', 'G', 'H', 'I', 'J'), dtype=tf.string, default_value=-1, num_oov_buckets=0)),\n",
       " IndicatorColumn(categorical_column=VocabularyListCategoricalColumn(key='embark_town', vocabulary_list=('Cherbourg', 'Southhampton', 'Queenstown'), dtype=tf.string, default_value=-1, num_oov_buckets=0)),\n",
       " IndicatorColumn(categorical_column=VocabularyListCategoricalColumn(key='alone', vocabulary_list=('y', 'n'), dtype=tf.string, default_value=-1, num_oov_buckets=0))]"
      ]
     },
     "metadata": {},
     "execution_count": 22
    }
   ],
   "source": [
    "categorical_columns"
   ]
  },
  {
   "cell_type": "code",
   "execution_count": 23,
   "metadata": {},
   "outputs": [
    {
     "output_type": "stream",
     "name": "stdout",
     "text": [
      "[0. 1. 0. 0. 1. 0. 0. 0. 0. 0. 0. 0. 0. 0. 0. 0. 0. 0. 0. 1.]\n"
     ]
    }
   ],
   "source": [
    "# `tf.keras.layers.DenseFeatures()` produces a dense Tensor based on given feature_columns.\n",
    "categorical_layer = tf.keras.layers.DenseFeatures(categorical_columns)\n",
    "print(categorical_layer(example_batch).numpy()[0])"
   ]
  },
  {
   "source": [
    "### Combined preprocessing layer"
   ],
   "cell_type": "markdown",
   "metadata": {}
  },
  {
   "cell_type": "code",
   "execution_count": 24,
   "metadata": {},
   "outputs": [],
   "source": [
    "# 添加兩個特徵集合，並將它們傳遞給 tf.keras.layers.DenseFeatures，以創建一個輸入層，該層將提取並預處理這兩種輸入類型\n",
    "preprocessing_layer = tf.keras.layers.DenseFeatures(categorical_columns+numeric_columns)"
   ]
  },
  {
   "cell_type": "code",
   "execution_count": 25,
   "metadata": {},
   "outputs": [
    {
     "output_type": "stream",
     "name": "stdout",
     "text": [
      "[ 0.          1.          0.          0.          1.          0.\n  0.          0.          0.          0.          0.          0.\n  0.          0.          0.          0.          0.          0.\n  0.90863633 -0.47385937  2.0434003  -0.2595877   0.          1.        ]\n"
     ]
    }
   ],
   "source": [
    "print(preprocessing_layer(example_batch).numpy()[0])"
   ]
  },
  {
   "cell_type": "code",
   "execution_count": null,
   "metadata": {},
   "outputs": [],
   "source": []
  }
 ]
}