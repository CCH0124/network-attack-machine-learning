{
 "cells": [
  {
   "cell_type": "code",
   "execution_count": 1,
   "metadata": {},
   "outputs": [],
   "source": [
    "import pandas as pd\n",
    "import matplotlib.pyplot as plt\n",
    "pd.set_option('display.width', 1000, 'display.max_rows', 1000)"
   ]
  },
  {
   "cell_type": "code",
   "execution_count": 33,
   "metadata": {},
   "outputs": [],
   "source": [
    "data = pd.read_csv(\"D:\\DataSet\\CICIDS2017\\CSV\\Wednesday-workingHours.pcap_ISCX.csv\")"
   ]
  },
  {
   "cell_type": "code",
   "execution_count": 34,
   "metadata": {},
   "outputs": [],
   "source": [
    "data.columns = data.columns.str.strip()"
   ]
  },
  {
   "cell_type": "markdown",
   "metadata": {},
   "source": [
    "## Total Fwd Packets"
   ]
  },
  {
   "cell_type": "code",
   "execution_count": 4,
   "metadata": {},
   "outputs": [],
   "source": [
    "# flow_fwd_packets = data[['Flow Duration', 'Total Fwd Packets', 'Label']]"
   ]
  },
  {
   "cell_type": "code",
   "execution_count": 5,
   "metadata": {},
   "outputs": [],
   "source": [
    "# flow_fwd_packets_benign = flow_fwd_packets[flow_fwd_packets['Label'] == 'BENIGN']\n",
    "# flow_fwd_packets_attack = flow_fwd_packets[flow_fwd_packets['Label'] != 'BENIGN']"
   ]
  },
  {
   "cell_type": "code",
   "execution_count": 6,
   "metadata": {},
   "outputs": [],
   "source": [
    "# import plotly.express as px\n",
    "# fig = px.scatter(flow_fwd_packets_benign, x=\"Flow Duration\", y=\"Total Fwd Packets\", color=\"Label\")\n",
    "# fig.show()"
   ]
  },
  {
   "cell_type": "code",
   "execution_count": 7,
   "metadata": {},
   "outputs": [],
   "source": [
    "# import plotly.express as px\n",
    "# fig = px.scatter(flow_fwd_packets_attack, x=\"Flow Duration\", y=\"Total Fwd Packets\", color=\"Label\")\n",
    "# fig.show()"
   ]
  },
  {
   "cell_type": "markdown",
   "metadata": {},
   "source": [
    "## Total Fwd Packets and Total Backward Packets"
   ]
  },
  {
   "cell_type": "code",
   "execution_count": 8,
   "metadata": {},
   "outputs": [],
   "source": [
    "# flow_packets = data[['Flow Duration', 'Total Fwd Packets', 'Total Backward Packets', 'Label']]"
   ]
  },
  {
   "cell_type": "code",
   "execution_count": 9,
   "metadata": {},
   "outputs": [],
   "source": [
    "# flow_packets_benign = flow_packets[flow_packets['Label'] == 'BENIGN']\n",
    "# flow_packets_DoS_GoldenEye = flow_packets[flow_packets['Label'] == 'DoS GoldenEye']\n",
    "# flow_packets_DoS_Hulk = flow_packets[flow_packets['Label'] == 'DoS Hulk']\n",
    "# flow_packets_DoS_Slowhttptest = flow_packets[flow_packets['Label'] == 'DoS Slowhttptest']\n",
    "# flow_packets_DoS_slowloris = flow_packets[flow_packets['Label'] == 'DoS slowloris']\n",
    "# flow_packets_Heartbleed = flow_packets[flow_packets['Label'] == 'Heartbleed']"
   ]
  },
  {
   "cell_type": "code",
   "execution_count": 14,
   "metadata": {},
   "outputs": [],
   "source": [
    "# flow_packets_concat = pd.concat([flow_packets_benign[400000:], flow_packets_Heartbleed])"
   ]
  },
  {
   "cell_type": "code",
   "execution_count": 16,
   "metadata": {},
   "outputs": [],
   "source": [
    "# import plotly.express as px\n",
    "# fig = px.scatter_3d(flow_packets_concat, x='Flow Duration', y='Total Fwd Packets', z='Total Backward Packets',\n",
    "#               color='Label')\n",
    "# fig.show()"
   ]
  },
  {
   "cell_type": "markdown",
   "metadata": {},
   "source": [
    "## Total Length of Fwd Packets"
   ]
  },
  {
   "cell_type": "code",
   "execution_count": 20,
   "metadata": {},
   "outputs": [],
   "source": [
    "# flow_length_fwd_packets = data[['Flow Duration', 'Total Length of Fwd Packets', 'Label']]\n",
    "# flow_length_fwd_packets_benign = flow_length_fwd_packets[flow_length_fwd_packets['Label'] == 'BENIGN']\n",
    "# flow_length_fwd_packets_DoS_GoldenEye = flow_length_fwd_packets[flow_length_fwd_packets['Label'] == 'DoS GoldenEye']\n",
    "# flow_length_fwd_packets_DoS_Hulk = flow_length_fwd_packets[flow_length_fwd_packets['Label'] == 'DoS Hulk']\n",
    "# flow_length_fwd_packets_DoS_Slowhttptest = flow_length_fwd_packets[flow_length_fwd_packets['Label'] == 'DoS Slowhttptest']\n",
    "# flow_length_fwd_packets_DoS_slowloris = flow_length_fwd_packets[flow_length_fwd_packets['Label'] == 'DoS slowloris']\n",
    "# flow_length_fwd_packets_Heartbleed = flow_length_fwd_packets[flow_length_fwd_packets['Label'] == 'Heartbleed']"
   ]
  },
  {
   "cell_type": "code",
   "execution_count": 21,
   "metadata": {},
   "outputs": [],
   "source": [
    "# flow_length_packets_concat = pd.concat([flow_length_fwd_packets_benign, flow_length_fwd_packets_Heartbleed])"
   ]
  },
  {
   "cell_type": "code",
   "execution_count": 19,
   "metadata": {},
   "outputs": [],
   "source": [
    "# import plotly.express as px\n",
    "# fig = px.scatter(flow_length_fwd_packets, x=\"Flow Duration\", y=\"Total Length of Fwd Packets\", color=\"Label\")\n",
    "# fig.show()"
   ]
  },
  {
   "cell_type": "markdown",
   "metadata": {},
   "source": [
    "## Total Length of Bwd Packets"
   ]
  },
  {
   "cell_type": "code",
   "execution_count": 25,
   "metadata": {},
   "outputs": [],
   "source": [
    "# flow_length_bwd_packets = data[['Flow Duration', 'Total Length of Bwd Packets', 'Label']]"
   ]
  },
  {
   "cell_type": "code",
   "execution_count": 24,
   "metadata": {},
   "outputs": [],
   "source": [
    "# import plotly.express as px\n",
    "# fig = px.scatter(flow_length_bwd_packets, x=\"Flow Duration\", y=\"Total Length of Bwd Packets\", color=\"Label\")\n",
    "# fig.show()"
   ]
  },
  {
   "cell_type": "markdown",
   "metadata": {},
   "source": [
    "## Flow Bytes/s and Flow Packets/s "
   ]
  },
  {
   "cell_type": "code",
   "execution_count": 12,
   "metadata": {},
   "outputs": [],
   "source": [
    "# flow_packets = data[['Flow Duration', 'Flow Packets/s', 'Label']]"
   ]
  },
  {
   "cell_type": "code",
   "execution_count": 13,
   "metadata": {},
   "outputs": [],
   "source": [
    "# import plotly.express as px\n",
    "# fig = px.scatter(flow_packets, x=\"Flow Duration\", y=\"Flow Packets/s\", color=\"Label\")\n",
    "# fig.show()"
   ]
  },
  {
   "cell_type": "code",
   "execution_count": null,
   "metadata": {},
   "outputs": [],
   "source": []
  }
 ],
 "metadata": {
  "kernelspec": {
   "display_name": "Python 3",
   "language": "python",
   "name": "python3"
  },
  "language_info": {
   "codemirror_mode": {
    "name": "ipython",
    "version": 3
   },
   "file_extension": ".py",
   "mimetype": "text/x-python",
   "name": "python",
   "nbconvert_exporter": "python",
   "pygments_lexer": "ipython3",
   "version": "3.7.7-final"
  }
 },
 "nbformat": 4,
 "nbformat_minor": 2
}