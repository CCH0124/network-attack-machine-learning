{
 "metadata": {
  "language_info": {
   "codemirror_mode": {
    "name": "ipython",
    "version": 3
   },
   "file_extension": ".py",
   "mimetype": "text/x-python",
   "name": "python",
   "nbconvert_exporter": "python",
   "pygments_lexer": "ipython3",
   "version": "3.7.7-final"
  },
  "orig_nbformat": 2,
  "kernelspec": {
   "name": "Python 3.7.7 64-bit ('tf': conda)",
   "display_name": "Python 3.7.7 64-bit ('tf': conda)",
   "metadata": {
    "interpreter": {
     "hash": "e8687a2ed57b2bbf73e5d297fc559bf5992817a7aebe93030fb3911c9bd123c9"
    }
   }
  }
 },
 "nbformat": 4,
 "nbformat_minor": 2,
 "cells": [
  {
   "cell_type": "code",
   "execution_count": 1,
   "metadata": {},
   "outputs": [],
   "source": [
    "import sys\n",
    "sys.path.append('../')\n",
    "import utils.data_preprocess as preprocess"
   ]
  },
  {
   "cell_type": "code",
   "execution_count": 2,
   "metadata": {},
   "outputs": [],
   "source": [
    "pre = preprocess.preprocess(\"D:/DataSet/CICIDS2017/CSV/Wednesday-workingHours.pcap_ISCX.csv\", labelColumnName='Label', depth=2)\n",
    "X_train, X_test, y_train, y_test = pre.preprocessing()"
   ]
  },
  {
   "cell_type": "code",
   "execution_count": 3,
   "metadata": {},
   "outputs": [
    {
     "output_type": "execute_result",
     "data": {
      "text/plain": "DecisionTreeClassifier(criterion='entropy', random_state=0)"
     },
     "metadata": {},
     "execution_count": 3
    }
   ],
   "source": [
    "from sklearn.tree import DecisionTreeClassifier\n",
    "classifier = DecisionTreeClassifier(criterion='entropy',random_state=0)\n",
    "classifier.fit(X_train, y_train.argmax(axis=1))"
   ]
  },
  {
   "cell_type": "code",
   "execution_count": 4,
   "metadata": {},
   "outputs": [],
   "source": [
    "y_pred = classifier.predict(X_test)"
   ]
  },
  {
   "cell_type": "code",
   "execution_count": 5,
   "metadata": {},
   "outputs": [
    {
     "output_type": "execute_result",
     "data": {
      "text/plain": "array([[131578,     63],\n       [    62,  75719]], dtype=int64)"
     },
     "metadata": {},
     "execution_count": 5
    }
   ],
   "source": [
    "from sklearn.metrics import confusion_matrix\n",
    "confusion_matrix(y_test.argmax(axis=1), y_pred)"
   ]
  },
  {
   "cell_type": "code",
   "execution_count": 6,
   "metadata": {
    "tags": []
   },
   "outputs": [
    {
     "output_type": "stream",
     "name": "stdout",
     "text": "F1 Score :  0.9991752604527491\nPrecision :  0.9991686680214299\nRecall :  0.9991818529710613\n"
    }
   ],
   "source": [
    "from sklearn import metrics\n",
    "print(\"F1 Score : \", metrics.f1_score(y_test.argmax(axis=1), y_pred, average='binary'))\n",
    "print(\"Precision : \", metrics.precision_score(y_test.argmax(axis=1), y_pred, average='binary'))\n",
    "print(\"Recall : \", metrics.recall_score(y_test.argmax(axis=1), y_pred, average='binary'))"
   ]
  },
  {
   "source": [
    "### gini\n",
    "```\n",
    "array([[131506,     82],\n",
    "       [    66,  75768]], dtype=int64)\n",
    "```\n",
    "F1 Score :  0.9990242873341948\n",
    "Precision :  0.9989189189189189\n",
    "Recall :  0.999129677980853\n",
    "### entropy\n",
    "```\n",
    "array([[131578,     63],\n",
    "       [    62,  75719]], dtype=int64)\n",
    "```\n",
    "F1 Score :  0.9991752604527491\n",
    "Precision :  0.9991686680214299\n",
    "Recall :  0.9991818529710613"
   ],
   "cell_type": "markdown",
   "metadata": {}
  }
 ]
}