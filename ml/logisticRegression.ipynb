{
 "metadata": {
  "language_info": {
   "codemirror_mode": {
    "name": "ipython",
    "version": 3
   },
   "file_extension": ".py",
   "mimetype": "text/x-python",
   "name": "python",
   "nbconvert_exporter": "python",
   "pygments_lexer": "ipython3",
   "version": "3.7.7-final"
  },
  "orig_nbformat": 2,
  "kernelspec": {
   "name": "Python 3.7.7 64-bit ('tf': conda)",
   "display_name": "Python 3.7.7 64-bit ('tf': conda)",
   "metadata": {
    "interpreter": {
     "hash": "e8687a2ed57b2bbf73e5d297fc559bf5992817a7aebe93030fb3911c9bd123c9"
    }
   }
  }
 },
 "nbformat": 4,
 "nbformat_minor": 2,
 "cells": [
  {
   "cell_type": "code",
   "execution_count": 2,
   "metadata": {},
   "outputs": [],
   "source": [
    "import sys\n",
    "sys.path.append('../')\n",
    "import utils.data_preprocess as preprocess"
   ]
  },
  {
   "cell_type": "code",
   "execution_count": 3,
   "metadata": {},
   "outputs": [],
   "source": [
    "pre = preprocess.preprocess(\"D:/DataSet/CICIDS2017/CSV/Wednesday-workingHours.pcap_ISCX.csv\", labelColumnName='Label', depth=2)\n",
    "X_train, X_test, y_train, y_test = pre.preprocessing()"
   ]
  },
  {
   "cell_type": "code",
   "execution_count": 27,
   "metadata": {},
   "outputs": [
    {
     "output_type": "execute_result",
     "data": {
      "text/plain": "LogisticRegression(solver='saga')"
     },
     "metadata": {},
     "execution_count": 27
    }
   ],
   "source": [
    "from sklearn.linear_model import LogisticRegression\n",
    "classifier = LogisticRegression( solver='saga')\n",
    "classifier.fit(X_train, y_train.argmax(axis=1))  # y_train = 0 is attack"
   ]
  },
  {
   "cell_type": "code",
   "execution_count": 28,
   "metadata": {},
   "outputs": [],
   "source": [
    "y_pred = classifier.predict(X_test)"
   ]
  },
  {
   "cell_type": "code",
   "execution_count": 29,
   "metadata": {},
   "outputs": [
    {
     "output_type": "execute_result",
     "data": {
      "text/plain": "array([[125821,   6124],\n       [  3317,  72160]], dtype=int64)"
     },
     "metadata": {},
     "execution_count": 29
    }
   ],
   "source": [
    "from sklearn.metrics import confusion_matrix\n",
    "confusion_matrix(y_test.argmax(axis=1), y_pred)"
   ]
  },
  {
   "cell_type": "code",
   "execution_count": 30,
   "metadata": {
    "tags": []
   },
   "outputs": [
    {
     "output_type": "stream",
     "name": "stdout",
     "text": "F1 Score :  0.9385995148314592\nPrecision :  0.9217720096060498\nRecall :  0.9560528372881805\n"
    }
   ],
   "source": [
    "from sklearn import metrics\n",
    "print(\"F1 Score : \", metrics.f1_score(y_test.argmax(axis=1), y_pred, average='binary'))\n",
    "print(\"Precision : \", metrics.precision_score(y_test.argmax(axis=1), y_pred, average='binary'))\n",
    "print(\"Recall : \", metrics.recall_score(y_test.argmax(axis=1), y_pred, average='binary'))"
   ]
  },
  {
   "source": [
    "### lbfgs\n",
    "```\n",
    "array([[126181,   5764],\n",
    "       [  2632,  72845]], dtype=int64)\n",
    "```\n",
    "F1 Score :  0.9455109484313955\n",
    "Precision :  0.9266750626518592\n",
    "Recall :  0.9651284497264068\n",
    "### saga\n",
    "```\n",
    "array([[125821,   6124],\n",
    "       [  3317,  72160]], dtype=int64)\n",
    "```\n",
    "F1 Score :  0.9385995148314592\n",
    "Precision :  0.9217720096060498\n",
    "Recall :  0.9560528372881805"
   ],
   "cell_type": "markdown",
   "metadata": {}
  }
 ]
}