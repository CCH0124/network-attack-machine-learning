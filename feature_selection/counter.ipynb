{
 "metadata": {
  "language_info": {
   "codemirror_mode": {
    "name": "ipython",
    "version": 3
   },
   "file_extension": ".py",
   "mimetype": "text/x-python",
   "name": "python",
   "nbconvert_exporter": "python",
   "pygments_lexer": "ipython3",
   "version": "3.7.7-final"
  },
  "orig_nbformat": 2,
  "kernelspec": {
   "name": "python_defaultSpec_1600772364610",
   "display_name": "Python 3.7.7 64-bit ('tf': conda)"
  }
 },
 "nbformat": 4,
 "nbformat_minor": 2,
 "cells": [
  {
   "cell_type": "code",
   "execution_count": 1,
   "metadata": {
    "tags": []
   },
   "outputs": [
    {
     "output_type": "stream",
     "name": "stdout",
     "text": ".\\RFE-feature.csv\n.\\SelectKBest-feature-selection-inf_and_na_drop.csv\n.\\SelectKBest-feature-selection-inf_drop_insert_nan.csv\n.\\SelectKBest-feature-selection-inf_replace_value_ffill_nan.csv\n.\\SelectPercentile-feature-inf_and_na_drop.csv\n.\\SelectPercentile-feature-inf_drop_insert_nan.csv\n.\\SelectPercentile-feature-inf_drop_insert_nan_quadratic.csv\n.\\SelectPercentile-feature-inf_replace_value_ffill_nan.csv\n"
    }
   ],
   "source": [
    "import glob\n",
    "path = './'\n",
    "paths = glob.glob(os.path.join(path, '*.csv'))\n",
    "for csv_file in paths:"
   ]
  },
  {
   "cell_type": "code",
   "execution_count": null,
   "metadata": {},
   "outputs": [],
   "source": []
  }
 ]
}