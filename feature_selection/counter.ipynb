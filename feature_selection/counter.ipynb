{
 "metadata": {
  "language_info": {
   "codemirror_mode": {
    "name": "ipython",
    "version": 3
   },
   "file_extension": ".py",
   "mimetype": "text/x-python",
   "name": "python",
   "nbconvert_exporter": "python",
   "pygments_lexer": "ipython3",
   "version": "3.7.7-final"
  },
  "orig_nbformat": 2,
  "kernelspec": {
   "name": "Python 3.7.7 64-bit ('tf': conda)",
   "display_name": "Python 3.7.7 64-bit ('tf': conda)",
   "metadata": {
    "interpreter": {
     "hash": "e8687a2ed57b2bbf73e5d297fc559bf5992817a7aebe93030fb3911c9bd123c9"
    }
   }
  }
 },
 "nbformat": 4,
 "nbformat_minor": 2,
 "cells": [
  {
   "cell_type": "code",
   "execution_count": 1,
   "metadata": {
    "tags": []
   },
   "outputs": [],
   "source": [
    "import glob\n",
    "import pandas as pd\n",
    "path = './'\n",
    "paths = glob.glob(os.path.join(path, '*.csv'))\n",
    "csv_to_df = []"
   ]
  },
  {
   "cell_type": "code",
   "execution_count": 2,
   "metadata": {
    "tags": []
   },
   "outputs": [],
   "source": [
    "for file_csv in paths:\n",
    "    df = pd.read_csv(file_csv)\n",
    "    csv_to_df.append(df)"
   ]
  },
  {
   "cell_type": "code",
   "execution_count": 3,
   "metadata": {},
   "outputs": [],
   "source": [
    "csv_all = pd.concat(csv_to_df, ignore_index=True)"
   ]
  },
  {
   "cell_type": "code",
   "execution_count": 4,
   "metadata": {},
   "outputs": [
    {
     "output_type": "execute_result",
     "data": {
      "text/plain": "(70, 35)"
     },
     "metadata": {},
     "execution_count": 4
    }
   ],
   "source": [
    "arr = csv_all.values\n",
    "arr.shape"
   ]
  },
  {
   "cell_type": "code",
   "execution_count": 7,
   "metadata": {},
   "outputs": [],
   "source": [
    "arr_ = arr.reshape(-1)"
   ]
  },
  {
   "cell_type": "code",
   "execution_count": 9,
   "metadata": {},
   "outputs": [],
   "source": [
    "recode = pd.Series(arr_).value_counts()"
   ]
  },
  {
   "cell_type": "code",
   "execution_count": 12,
   "metadata": {},
   "outputs": [
    {
     "output_type": "execute_result",
     "data": {
      "text/plain": "Bwd Packet Length Mean    70\nIdle Mean                 70\nBwd Packet Length Std     70\nMax Packet Length         70\nBwd Packet Length Max     70\nAverage Packet Size       66\nFwd IAT Total             62\nBwd Packets/s             60\nActive Max                60\nFwd IAT Mean              52\nFlow IAT Mean             48\nIdle Std                  42\nPacket Length Mean        34\nMin Packet Length         32\nECE Flag Count            20\nFlow IAT Max              14\nFlow Packets/s            10\nFwd IAT Std               10\nFwd IAT Max               10\nPacket Length Std         10\nAvg Bwd Segment Size      10\nIdle Max                  10\nIdle Min                   9\nActive Std                 8\nPacket Length Variance     7\nact_data_pkt_fwd           6\nFlow IAT Std               5\nActive Min                 4\nFlow Duration              3\nActive Mean                3\ndtype: int64"
     },
     "metadata": {},
     "execution_count": 12
    }
   ],
   "source": [
    "recode"
   ]
  },
  {
   "cell_type": "code",
   "execution_count": null,
   "metadata": {},
   "outputs": [],
   "source": []
  }
 ]
}