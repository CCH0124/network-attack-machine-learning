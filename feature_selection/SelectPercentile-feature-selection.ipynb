{
 "cells": [
  {
   "cell_type": "code",
   "execution_count": 1,
   "metadata": {},
   "outputs": [],
   "source": [
    "import pandas as pd\n",
    "from numpy import set_printoptions\n",
    "from sklearn.feature_selection import SelectPercentile\n",
    "import sys\n",
    "sys.path.append('../')\n",
    "import utils.preprocess as preprocess\n",
    "import utils.feature_list as fl"
   ]
  },
  {
   "cell_type": "code",
   "execution_count": 2,
   "metadata": {},
   "outputs": [],
   "source": [
    "features = fl.get_feature()\n",
    "data = pd.read_csv(\"D:/DataSet/CICIDS2017/CSV/Wednesday-workingHours.pcap_ISCX.csv\")"
   ]
  },
  {
   "cell_type": "code",
   "execution_count": 3,
   "metadata": {},
   "outputs": [],
   "source": [
    "data.columns = data.columns.str.strip()\n",
    "data_ = data[features]"
   ]
  },
  {
   "cell_type": "code",
   "execution_count": 4,
   "metadata": {},
   "outputs": [],
   "source": [
    "import numpy as np\n",
    "# data_ = data_.dropna(axis=1)\n",
    "data_ = data_.replace(['Infinity',np.inf, -np.inf], -999999.999999)\n",
    "data_ = data_.fillna(method='ffill')"
   ]
  },
  {
   "cell_type": "code",
   "execution_count": 5,
   "metadata": {},
   "outputs": [],
   "source": [
    "X = data_.iloc[:,0:-1]\n",
    "Y = data_.iloc[:,-1]"
   ]
  },
  {
   "cell_type": "code",
   "execution_count": 6,
   "metadata": {},
   "outputs": [],
   "source": [
    "X = X.values\n",
    "Y = Y.values"
   ]
  },
  {
   "cell_type": "code",
   "execution_count": 7,
   "metadata": {},
   "outputs": [],
   "source": [
    "feature_list = []"
   ]
  },
  {
   "cell_type": "code",
   "execution_count": 8,
   "metadata": {},
   "outputs": [
    {
     "name": "stderr",
     "output_type": "stream",
     "text": [
      "D:\\Anaconda3\\envs\\tf2\\lib\\site-packages\\sklearn\\feature_selection\\_univariate_selection.py:115: UserWarning: Features [30 31 32 48 55 56 57 58 59 60] are constant.\n",
      "  UserWarning)\n",
      "D:\\Anaconda3\\envs\\tf2\\lib\\site-packages\\sklearn\\feature_selection\\_univariate_selection.py:116: RuntimeWarning: invalid value encountered in true_divide\n",
      "  f = msb / msw\n",
      "D:\\Anaconda3\\envs\\tf2\\lib\\site-packages\\sklearn\\feature_selection\\_univariate_selection.py:115: UserWarning: Features [30 31 32 48 55 56 57 58 59 60] are constant.\n",
      "  UserWarning)\n",
      "D:\\Anaconda3\\envs\\tf2\\lib\\site-packages\\sklearn\\feature_selection\\_univariate_selection.py:116: RuntimeWarning: invalid value encountered in true_divide\n",
      "  f = msb / msw\n",
      "D:\\Anaconda3\\envs\\tf2\\lib\\site-packages\\sklearn\\feature_selection\\_univariate_selection.py:115: UserWarning: Features [30 31 32 48 55 56 57 58 59 60] are constant.\n",
      "  UserWarning)\n",
      "D:\\Anaconda3\\envs\\tf2\\lib\\site-packages\\sklearn\\feature_selection\\_univariate_selection.py:116: RuntimeWarning: invalid value encountered in true_divide\n",
      "  f = msb / msw\n",
      "D:\\Anaconda3\\envs\\tf2\\lib\\site-packages\\sklearn\\feature_selection\\_univariate_selection.py:115: UserWarning: Features [30 31 32 48 55 56 57 58 59 60] are constant.\n",
      "  UserWarning)\n",
      "D:\\Anaconda3\\envs\\tf2\\lib\\site-packages\\sklearn\\feature_selection\\_univariate_selection.py:116: RuntimeWarning: invalid value encountered in true_divide\n",
      "  f = msb / msw\n",
      "D:\\Anaconda3\\envs\\tf2\\lib\\site-packages\\sklearn\\feature_selection\\_univariate_selection.py:115: UserWarning: Features [30 31 32 48 55 56 57 58 59 60] are constant.\n",
      "  UserWarning)\n",
      "D:\\Anaconda3\\envs\\tf2\\lib\\site-packages\\sklearn\\feature_selection\\_univariate_selection.py:116: RuntimeWarning: invalid value encountered in true_divide\n",
      "  f = msb / msw\n",
      "D:\\Anaconda3\\envs\\tf2\\lib\\site-packages\\sklearn\\feature_selection\\_univariate_selection.py:115: UserWarning: Features [30 31 32 48 55 56 57 58 59 60] are constant.\n",
      "  UserWarning)\n",
      "D:\\Anaconda3\\envs\\tf2\\lib\\site-packages\\sklearn\\feature_selection\\_univariate_selection.py:116: RuntimeWarning: invalid value encountered in true_divide\n",
      "  f = msb / msw\n",
      "D:\\Anaconda3\\envs\\tf2\\lib\\site-packages\\sklearn\\feature_selection\\_univariate_selection.py:115: UserWarning: Features [30 31 32 48 55 56 57 58 59 60] are constant.\n",
      "  UserWarning)\n",
      "D:\\Anaconda3\\envs\\tf2\\lib\\site-packages\\sklearn\\feature_selection\\_univariate_selection.py:116: RuntimeWarning: invalid value encountered in true_divide\n",
      "  f = msb / msw\n",
      "D:\\Anaconda3\\envs\\tf2\\lib\\site-packages\\sklearn\\feature_selection\\_univariate_selection.py:115: UserWarning: Features [30 31 32 48 55 56 57 58 59 60] are constant.\n",
      "  UserWarning)\n",
      "D:\\Anaconda3\\envs\\tf2\\lib\\site-packages\\sklearn\\feature_selection\\_univariate_selection.py:116: RuntimeWarning: invalid value encountered in true_divide\n",
      "  f = msb / msw\n",
      "D:\\Anaconda3\\envs\\tf2\\lib\\site-packages\\sklearn\\feature_selection\\_univariate_selection.py:115: UserWarning: Features [30 31 32 48 55 56 57 58 59 60] are constant.\n",
      "  UserWarning)\n",
      "D:\\Anaconda3\\envs\\tf2\\lib\\site-packages\\sklearn\\feature_selection\\_univariate_selection.py:116: RuntimeWarning: invalid value encountered in true_divide\n",
      "  f = msb / msw\n",
      "D:\\Anaconda3\\envs\\tf2\\lib\\site-packages\\sklearn\\feature_selection\\_univariate_selection.py:115: UserWarning: Features [30 31 32 48 55 56 57 58 59 60] are constant.\n",
      "  UserWarning)\n",
      "D:\\Anaconda3\\envs\\tf2\\lib\\site-packages\\sklearn\\feature_selection\\_univariate_selection.py:116: RuntimeWarning: invalid value encountered in true_divide\n",
      "  f = msb / msw\n"
     ]
    }
   ],
   "source": [
    "from sklearn.feature_selection import f_classif\n",
    "for i in range(10):\n",
    "    test = SelectPercentile(score_func=f_classif, percentile=10)\n",
    "    fit = test.fit(X, Y)\n",
    "    # summarize scores\n",
    "    set_printoptions(precision=3)\n",
    "    # print(fit.scores_)\n",
    "\n",
    "    features_ = fit.transform(X)\n",
    "    # summarize selected features\n",
    "    # print(features_[0:11,:])\n",
    "    temp = []\n",
    "    for feature_list_index in test.get_support(indices=True):\n",
    "        temp.append(features[feature_list_index])\n",
    "    feature_list.append(temp)"
   ]
  },
  {
   "cell_type": "code",
   "execution_count": 10,
   "metadata": {},
   "outputs": [],
   "source": [
    "df = pd.DataFrame(feature_list, columns =['feature1', 'feature2', 'feature3', 'feature4', 'feature5', 'feature6', 'feature7', 'feature8'], dtype = str) "
   ]
  },
  {
   "cell_type": "code",
   "execution_count": 11,
   "metadata": {},
   "outputs": [],
   "source": [
    "df.to_csv(\"SelectPercentile-feature.csv\",index=False)"
   ]
  },
  {
   "cell_type": "code",
   "execution_count": null,
   "metadata": {},
   "outputs": [],
   "source": []
  },
  {
   "cell_type": "code",
   "execution_count": null,
   "metadata": {},
   "outputs": [],
   "source": []
  },
  {
   "cell_type": "code",
   "execution_count": null,
   "metadata": {},
   "outputs": [],
   "source": []
  },
  {
   "cell_type": "code",
   "execution_count": null,
   "metadata": {},
   "outputs": [],
   "source": []
  }
 ],
 "metadata": {
  "kernelspec": {
   "display_name": "Python 3",
   "language": "python",
   "name": "python3"
  },
  "language_info": {
   "codemirror_mode": {
    "name": "ipython",
    "version": 3
   },
   "file_extension": ".py",
   "mimetype": "text/x-python",
   "name": "python",
   "nbconvert_exporter": "python",
   "pygments_lexer": "ipython3",
   "version": "3.6.10"
  }
 },
 "nbformat": 4,
 "nbformat_minor": 4
}
