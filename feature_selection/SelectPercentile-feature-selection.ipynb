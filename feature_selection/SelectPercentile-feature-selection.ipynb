{
 "cells": [
  {
   "cell_type": "code",
   "execution_count": 1,
   "metadata": {},
   "outputs": [],
   "source": [
    "import pandas as pd\n",
    "from numpy import set_printoptions\n",
    "from sklearn.feature_selection import SelectPercentile\n",
    "import sys\n",
    "sys.path.append('../')\n",
    "import utils.data_preprocess as preprocess\n",
    "import utils.data_feature as fl\n",
    "import utils.data_miss_value as nap\n",
    "from sklearn.model_selection import train_test_split"
   ]
  },
  {
   "cell_type": "code",
   "execution_count": 2,
   "metadata": {},
   "outputs": [],
   "source": [
    "features = fl.get_feature()\n",
    "data = pd.read_csv(\"D:/DataSet/CICIDS2017/CSV/Wednesday-workingHours.pcap_ISCX.csv\")"
   ]
  },
  {
   "cell_type": "code",
   "execution_count": 3,
   "metadata": {},
   "outputs": [],
   "source": [
    "data.columns = data.columns.str.strip()\n",
    "data_ = data[features]"
   ]
  },
  {
   "cell_type": "code",
   "execution_count": 4,
   "metadata": {},
   "outputs": [],
   "source": [
    "# data_ = nap.inf_and_na_drop(data_)\n",
    "data_ = nap.inf_drop_insert_nan(data_, method='quadratic')\n",
    "# data_ = nap.inf_replace_value_ffill_nan(data_)"
   ]
  },
  {
   "cell_type": "code",
   "execution_count": 5,
   "metadata": {},
   "outputs": [],
   "source": [
    "X = data_.iloc[:,0:-1]\n",
    "Y = data_.iloc[:,-1]"
   ]
  },
  {
   "cell_type": "code",
   "execution_count": 6,
   "metadata": {},
   "outputs": [],
   "source": [
    "X = X.values\n",
    "Y = Y.values"
   ]
  },
  {
   "cell_type": "code",
   "execution_count": 7,
   "metadata": {},
   "outputs": [],
   "source": [
    "feature_list = []"
   ]
  },
  {
   "cell_type": "code",
   "execution_count": 9,
   "metadata": {},
   "outputs": [],
   "source": [
    "from sklearn.feature_selection import f_classif\n",
    "for i in range(10, 21, 1):\n",
    "    X_train, X_test, y_train, y_test = train_test_split(X, Y, test_size=0.3, random_state=42)\n",
    "    test = SelectPercentile(score_func=f_classif, percentile=i)\n",
    "    fit = test.fit(X_train, y_train)\n",
    "    # summarize scores\n",
    "    set_printoptions(precision=3)\n",
    "    # print(fit.scores_)\n",
    "\n",
    "    features_ = fit.transform(X_train)\n",
    "    # summarize selected features\n",
    "    # print(features_[0:11,:])\n",
    "    temp = []\n",
    "    for feature_list_index in test.get_support(indices=True):\n",
    "        temp.append(features[feature_list_index])\n",
    "    feature_list.append(temp)"
   ]
  },
  {
   "cell_type": "code",
   "execution_count": 10,
   "metadata": {},
   "outputs": [],
   "source": [
    "df = pd.DataFrame(feature_list, dtype = str) "
   ]
  },
  {
   "cell_type": "code",
   "execution_count": 11,
   "metadata": {},
   "outputs": [],
   "source": [
    "df.to_csv(\"SelectPercentile-feature-inf_drop_insert_nan_quadratic_v2.csv\",index=False)"
   ]
  },
  {
   "cell_type": "code",
   "execution_count": null,
   "metadata": {},
   "outputs": [],
   "source": []
  },
  {
   "cell_type": "code",
   "execution_count": null,
   "metadata": {},
   "outputs": [],
   "source": []
  },
  {
   "cell_type": "code",
   "execution_count": null,
   "metadata": {},
   "outputs": [],
   "source": []
  },
  {
   "cell_type": "code",
   "execution_count": null,
   "metadata": {},
   "outputs": [],
   "source": []
  }
 ],
 "metadata": {
  "kernelspec": {
   "display_name": "Python 3",
   "language": "python",
   "name": "python3"
  },
  "language_info": {
   "codemirror_mode": {
    "name": "ipython",
    "version": 3
   },
   "file_extension": ".py",
   "mimetype": "text/x-python",
   "name": "python",
   "nbconvert_exporter": "python",
   "pygments_lexer": "ipython3",
   "version": "3.7.7-final"
  }
 },
 "nbformat": 4,
 "nbformat_minor": 4
}