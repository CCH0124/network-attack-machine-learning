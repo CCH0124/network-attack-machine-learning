{
 "metadata": {
  "language_info": {
   "codemirror_mode": {
    "name": "ipython",
    "version": 3
   },
   "file_extension": ".py",
   "mimetype": "text/x-python",
   "name": "python",
   "nbconvert_exporter": "python",
   "pygments_lexer": "ipython3",
   "version": "3.7.7-final"
  },
  "orig_nbformat": 2,
  "kernelspec": {
   "name": "Python 3.7.7 64-bit ('tf': conda)",
   "display_name": "Python 3.7.7 64-bit ('tf': conda)",
   "metadata": {
    "interpreter": {
     "hash": "e8687a2ed57b2bbf73e5d297fc559bf5992817a7aebe93030fb3911c9bd123c9"
    }
   }
  }
 },
 "nbformat": 4,
 "nbformat_minor": 2,
 "cells": [
  {
   "cell_type": "code",
   "execution_count": 1,
   "metadata": {},
   "outputs": [],
   "source": [
    "import tensorflow as tf\n",
    "import numpy as np\n",
    "import sys\n",
    "sys.path.append('../')\n",
    "import utils.data_preprocess as preprocess\n",
    "from utils.model_metrics import ModelMetric"
   ]
  },
  {
   "cell_type": "code",
   "execution_count": 2,
   "metadata": {},
   "outputs": [],
   "source": [
    "modelmetric = ModelMetric()"
   ]
  },
  {
   "cell_type": "code",
   "execution_count": 3,
   "metadata": {},
   "outputs": [],
   "source": [
    "model_path = \"../model_record/Best-20200927-122844-SGD/model/model.h5\""
   ]
  },
  {
   "cell_type": "code",
   "execution_count": 4,
   "metadata": {},
   "outputs": [],
   "source": [
    "# model.load_weights(model_path)\n",
    "model = tf.keras.models.load_model(model_path, custom_objects={'relu6': tf.nn.relu6})"
   ]
  },
  {
   "cell_type": "code",
   "execution_count": 5,
   "metadata": {},
   "outputs": [],
   "source": [
    "pre = preprocess.preprocess(\"D:/DataSet/CICIDS2017/CSV/Wednesday-workingHours.pcap_ISCX.csv\", labelColumnName='Label', depth=2)\n",
    "X, y = pre.predict_preprocessing()"
   ]
  },
  {
   "cell_type": "code",
   "execution_count": 6,
   "metadata": {},
   "outputs": [],
   "source": [
    "X = tf.reshape(X, (X.shape[0], 1, X.shape[1]))\n",
    "y = y.numpy()"
   ]
  },
  {
   "cell_type": "code",
   "execution_count": 7,
   "metadata": {
    "tags": []
   },
   "outputs": [
    {
     "output_type": "stream",
     "name": "stdout",
     "text": "TrueNegatives result:  429997.0\nTruePositives result:  251235.0\nFalseNegatives result:  488.0\nFalsePositives result:  9686.0\nRecall result:  0.99806136\nPrecision result:  0.96287763\n"
    }
   ],
   "source": [
    "\n",
    "y_pred = model.predict(X)\n",
    "y_class = np.argmax(y_pred, axis=1)\n",
    "y_label = np.argmax(y, axis=1)\n",
    "modelmetric.confusion_matrix(y_label, y_class)\n",
    "modelmetric.eva_metric(y_label, y_class)"
   ]
  },
  {
   "cell_type": "code",
   "execution_count": 8,
   "metadata": {},
   "outputs": [],
   "source": [
    "friday = preprocess.preprocess(\"D:/DataSet/CICIDS2017/CSV/Friday-WorkingHours-Afternoon-DDos.pcap_ISCX.csv\", labelColumnName='Label', depth=2)\n",
    "X, y = friday.predict_preprocessing()\n",
    "X = tf.reshape(X, (X.shape[0], 1, X.shape[1]))\n",
    "y = y.numpy()"
   ]
  },
  {
   "cell_type": "code",
   "execution_count": 9,
   "metadata": {
    "tags": []
   },
   "outputs": [
    {
     "output_type": "stream",
     "name": "stdout",
     "text": "TrueNegatives result:  93652.0\nTruePositives result:  53920.0\nFalseNegatives result:  74105.0\nFalsePositives result:  4034.0\nRecall result:  0.42116773\nPrecision result:  0.9303931\n"
    }
   ],
   "source": [
    "\n",
    "y_pred = model.predict(X)\n",
    "y_class = np.argmax(y_pred, axis=1)\n",
    "y_label = np.argmax(y, axis=1)\n",
    "modelmetric.confusion_matrix(y_label, y_class)\n",
    "modelmetric.eva_metric(y_label, y_class)"
   ]
  },
  {
   "cell_type": "code",
   "execution_count": 12,
   "metadata": {},
   "outputs": [],
   "source": [
    "friday = preprocess.preprocess(\"D:/DataSet/CICDDOS2019/01-12/CSV/DrDoS_NTP.csv\", labelColumnName='Label', depth=2)\n",
    "X, y = friday.predict_preprocessing()\n",
    "X = tf.reshape(X, (X.shape[0], 1, X.shape[1]))\n",
    "y = y.numpy()"
   ]
  },
  {
   "cell_type": "code",
   "execution_count": 13,
   "metadata": {
    "tags": []
   },
   "outputs": [
    {
     "output_type": "stream",
     "name": "stdout",
     "text": "TrueNegatives result:  7998.0\nTruePositives result:  310436.0\nFalseNegatives result:  885254.0\nFalsePositives result:  6273.0\nRecall result:  0.25962916\nPrecision result:  0.9801932\n"
    }
   ],
   "source": [
    "\n",
    "y_pred = model.predict(X)\n",
    "y_class = np.argmax(y_pred, axis=1)\n",
    "y_label = np.argmax(y, axis=1)\n",
    "modelmetric.confusion_matrix(y_label, y_class)\n",
    "modelmetric.eva_metric(y_label, y_class)"
   ]
  },
  {
   "cell_type": "code",
   "execution_count": 14,
   "metadata": {},
   "outputs": [],
   "source": [
    "friday = preprocess.preprocess(\"D:/DataSet/CICDDOS2019/01-12/CSV/UDPLag.csv\", labelColumnName='Label', depth=2)\n",
    "X, y = friday.predict_preprocessing()\n",
    "X = tf.reshape(X, (X.shape[0], 1, X.shape[1]))\n",
    "y = y.numpy()"
   ]
  },
  {
   "cell_type": "code",
   "execution_count": 15,
   "metadata": {
    "tags": []
   },
   "outputs": [
    {
     "output_type": "stream",
     "name": "stdout",
     "text": "TrueNegatives result:  3331.0\nTruePositives result:  217457.0\nFalseNegatives result:  113061.0\nFalsePositives result:  353.0\nRecall result:  0.6579279\nPrecision result:  0.99837935\n"
    }
   ],
   "source": [
    "\n",
    "y_pred = model.predict(X)\n",
    "y_class = np.argmax(y_pred, axis=1)\n",
    "y_label = np.argmax(y, axis=1)\n",
    "modelmetric.confusion_matrix(y_label, y_class)\n",
    "modelmetric.eva_metric(y_label, y_class)"
   ]
  },
  {
   "cell_type": "code",
   "execution_count": 16,
   "metadata": {},
   "outputs": [],
   "source": [
    "friday = preprocess.preprocess(\"D:/DataSet/CICDDOS2019/01-12/CSV/Syn.csv\", labelColumnName='Label', depth=2)\n",
    "X, y = friday.predict_preprocessing()\n",
    "X = tf.reshape(X, (X.shape[0], 1, X.shape[1]))\n",
    "y = y.numpy()"
   ]
  },
  {
   "cell_type": "code",
   "execution_count": 17,
   "metadata": {
    "tags": []
   },
   "outputs": [
    {
     "output_type": "stream",
     "name": "stdout",
     "text": "TrueNegatives result:  333.0\nTruePositives result:  102951.0\nFalseNegatives result:  1277032.0\nFalsePositives result:  48.0\nRecall result:  0.074603096\nPrecision result:  0.99953395\n"
    }
   ],
   "source": [
    "\n",
    "y_pred = model.predict(X)\n",
    "y_class = np.argmax(y_pred, axis=1)\n",
    "y_label = np.argmax(y, axis=1)\n",
    "modelmetric.confusion_matrix(y_label, y_class)\n",
    "modelmetric.eva_metric(y_label, y_class)"
   ]
  },
  {
   "cell_type": "code",
   "execution_count": null,
   "metadata": {},
   "outputs": [],
   "source": []
  }
 ]
}