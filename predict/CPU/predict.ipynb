{
 "metadata": {
  "language_info": {
   "codemirror_mode": {
    "name": "ipython",
    "version": 3
   },
   "file_extension": ".py",
   "mimetype": "text/x-python",
   "name": "python",
   "nbconvert_exporter": "python",
   "pygments_lexer": "ipython3",
   "version": "3.7.9-final"
  },
  "orig_nbformat": 2,
  "kernelspec": {
   "name": "Python 3.7.9 64-bit ('tf-cpu': conda)",
   "display_name": "Python 3.7.9 64-bit ('tf-cpu': conda)",
   "metadata": {
    "interpreter": {
     "hash": "222de058b9088c59d85d24ba942f14914188b2b750ec6a1727a4511036d2f3e6"
    }
   }
  }
 },
 "nbformat": 4,
 "nbformat_minor": 2,
 "cells": [
  {
   "cell_type": "code",
   "execution_count": 1,
   "metadata": {},
   "outputs": [],
   "source": [
    "import tensorflow as tf\n",
    "import numpy as np\n",
    "import sys\n",
    "sys.path.append('../../')\n",
    "import utils.data_preprocess as preprocess\n",
    "from utils.model_metrics import ModelMetric"
   ]
  },
  {
   "cell_type": "code",
   "execution_count": 2,
   "metadata": {},
   "outputs": [],
   "source": [
    "import os\n",
    "os.environ[\"CUDA_VISIBLE_DEVICES\"]=\"-1\""
   ]
  },
  {
   "cell_type": "code",
   "execution_count": 3,
   "metadata": {},
   "outputs": [],
   "source": [
    "modelmetric = ModelMetric()"
   ]
  },
  {
   "cell_type": "code",
   "execution_count": 4,
   "metadata": {},
   "outputs": [],
   "source": [
    "model_path = \"../../model_record/CPU/CPU-Best-20201001-140551-SGD/model/model.h5\""
   ]
  },
  {
   "cell_type": "code",
   "execution_count": 5,
   "metadata": {},
   "outputs": [],
   "source": [
    "model = tf.keras.models.load_model(model_path, custom_objects={'relu6': tf.nn.relu6})"
   ]
  },
  {
   "cell_type": "code",
   "execution_count": 6,
   "metadata": {},
   "outputs": [],
   "source": [
    "pre = preprocess.preprocess(\"D:/DataSet/CICIDS2017/CSV/Wednesday-workingHours.pcap_ISCX.csv\", labelColumnName='Label', depth=2)\n",
    "X, y = pre.predict_preprocessing()"
   ]
  },
  {
   "cell_type": "code",
   "execution_count": 7,
   "metadata": {},
   "outputs": [],
   "source": [
    "X = tf.reshape(X, (X.shape[0], 1, X.shape[1]))\n",
    "y = y.numpy()"
   ]
  },
  {
   "cell_type": "code",
   "execution_count": 8,
   "metadata": {
    "tags": []
   },
   "outputs": [
    {
     "output_type": "stream",
     "name": "stdout",
     "text": "TrueNegatives result:  429921.0\nTruePositives result:  251260.0\nFalseNegatives result:  463.0\nFalsePositives result:  9762.0\nRecall result:  0.99816066\nPrecision result:  0.9626008\n"
    }
   ],
   "source": [
    "\n",
    "y_pred = model.predict(X)\n",
    "y_class = np.argmax(y_pred, axis=1)\n",
    "y_label = np.argmax(y, axis=1)\n",
    "modelmetric.confusion_matrix(y_label, y_class)\n",
    "modelmetric.eva_metric(y_label, y_class)"
   ]
  },
  {
   "cell_type": "code",
   "execution_count": 12,
   "metadata": {
    "tags": []
   },
   "outputs": [],
   "source": [
    "import keract\n",
    "getBN3 = keract.get_activations(model, X, layer_names='batch_normalization_3')"
   ]
  },
  {
   "cell_type": "code",
   "execution_count": 23,
   "metadata": {},
   "outputs": [
    {
     "output_type": "execute_result",
     "data": {
      "text/plain": "(691406, 16)"
     },
     "metadata": {},
     "execution_count": 23
    }
   ],
   "source": [
    "getBN3['batch_normalization_3'].shape"
   ]
  },
  {
   "cell_type": "code",
   "execution_count": null,
   "metadata": {},
   "outputs": [],
   "source": []
  }
 ]
}